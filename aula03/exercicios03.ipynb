{
  "nbformat": 4,
  "nbformat_minor": 0,
  "metadata": {
    "colab": {
      "provenance": []
    },
    "kernelspec": {
      "name": "python3",
      "display_name": "Python 3"
    },
    "language_info": {
      "name": "python"
    }
  },
  "cells": [
    {
      "cell_type": "markdown",
      "source": [
        "# Exercício - Implementando e treinando uma Regressão Linear \"do zero\""
      ],
      "metadata": {
        "id": "QqOTrFZIZRo5"
      }
    },
    {
      "cell_type": "code",
      "execution_count": null,
      "metadata": {
        "id": "2li-UWB_nB1o"
      },
      "outputs": [],
      "source": [
        "import numpy as np\n",
        "import pandas as pd\n",
        "import os\n",
        "import matplotlib.pyplot as plt\n",
        "import matplotlib.image as mpimg\n",
        "import seaborn as sns"
      ]
    },
    {
      "cell_type": "code",
      "source": [
        "os.getcwd()"
      ],
      "metadata": {
        "colab": {
          "base_uri": "https://localhost:8080/",
          "height": 35
        },
        "id": "317Wtgyw18TZ",
        "outputId": "3ffa3dcc-e2bd-4823-d034-8b86c6351423"
      },
      "execution_count": null,
      "outputs": [
        {
          "output_type": "execute_result",
          "data": {
            "text/plain": [
              "'/content'"
            ],
            "application/vnd.google.colaboratory.intrinsic+json": {
              "type": "string"
            }
          },
          "metadata": {},
          "execution_count": 6
        }
      ]
    },
    {
      "cell_type": "markdown",
      "source": [
        "## Dataset"
      ],
      "metadata": {
        "id": "Pp1KCNZBBZpT"
      }
    },
    {
      "cell_type": "markdown",
      "source": [
        "No nosso primeiro exemplo, vamos ler o arquivo Grainsize_Por.csv que contém os dados de tamanho de grão e porosidade de uma série de amostras de rochas."
      ],
      "metadata": {
        "id": "H1y7jALz2HKD"
      }
    },
    {
      "cell_type": "code",
      "source": [
        "url=\"https://raw.githubusercontent.com/GeostatsGuy/GeoDataSets/master/GrainSize_Por.csv\"\n",
        "df=pd.read_csv(url)\n",
        "df.head()"
      ],
      "metadata": {
        "colab": {
          "base_uri": "https://localhost:8080/",
          "height": 206
        },
        "id": "ru855mXr1-a6",
        "outputId": "a74b6dc1-903b-4d70-ab7e-20d18797934c"
      },
      "execution_count": null,
      "outputs": [
        {
          "output_type": "execute_result",
          "data": {
            "text/plain": [
              "   Grainsize   Porosity\n",
              "0   2.689284   5.400000\n",
              "1   6.683638  10.647582\n",
              "2   9.877106   7.926271\n",
              "3  12.239344  11.278953\n",
              "4  27.623312  10.508753"
            ],
            "text/html": [
              "\n",
              "  <div id=\"df-58bf1bda-d041-4042-a1bc-926f83e1765e\" class=\"colab-df-container\">\n",
              "    <div>\n",
              "<style scoped>\n",
              "    .dataframe tbody tr th:only-of-type {\n",
              "        vertical-align: middle;\n",
              "    }\n",
              "\n",
              "    .dataframe tbody tr th {\n",
              "        vertical-align: top;\n",
              "    }\n",
              "\n",
              "    .dataframe thead th {\n",
              "        text-align: right;\n",
              "    }\n",
              "</style>\n",
              "<table border=\"1\" class=\"dataframe\">\n",
              "  <thead>\n",
              "    <tr style=\"text-align: right;\">\n",
              "      <th></th>\n",
              "      <th>Grainsize</th>\n",
              "      <th>Porosity</th>\n",
              "    </tr>\n",
              "  </thead>\n",
              "  <tbody>\n",
              "    <tr>\n",
              "      <th>0</th>\n",
              "      <td>2.689284</td>\n",
              "      <td>5.400000</td>\n",
              "    </tr>\n",
              "    <tr>\n",
              "      <th>1</th>\n",
              "      <td>6.683638</td>\n",
              "      <td>10.647582</td>\n",
              "    </tr>\n",
              "    <tr>\n",
              "      <th>2</th>\n",
              "      <td>9.877106</td>\n",
              "      <td>7.926271</td>\n",
              "    </tr>\n",
              "    <tr>\n",
              "      <th>3</th>\n",
              "      <td>12.239344</td>\n",
              "      <td>11.278953</td>\n",
              "    </tr>\n",
              "    <tr>\n",
              "      <th>4</th>\n",
              "      <td>27.623312</td>\n",
              "      <td>10.508753</td>\n",
              "    </tr>\n",
              "  </tbody>\n",
              "</table>\n",
              "</div>\n",
              "    <div class=\"colab-df-buttons\">\n",
              "\n",
              "  <div class=\"colab-df-container\">\n",
              "    <button class=\"colab-df-convert\" onclick=\"convertToInteractive('df-58bf1bda-d041-4042-a1bc-926f83e1765e')\"\n",
              "            title=\"Convert this dataframe to an interactive table.\"\n",
              "            style=\"display:none;\">\n",
              "\n",
              "  <svg xmlns=\"http://www.w3.org/2000/svg\" height=\"24px\" viewBox=\"0 -960 960 960\">\n",
              "    <path d=\"M120-120v-720h720v720H120Zm60-500h600v-160H180v160Zm220 220h160v-160H400v160Zm0 220h160v-160H400v160ZM180-400h160v-160H180v160Zm440 0h160v-160H620v160ZM180-180h160v-160H180v160Zm440 0h160v-160H620v160Z\"/>\n",
              "  </svg>\n",
              "    </button>\n",
              "\n",
              "  <style>\n",
              "    .colab-df-container {\n",
              "      display:flex;\n",
              "      gap: 12px;\n",
              "    }\n",
              "\n",
              "    .colab-df-convert {\n",
              "      background-color: #E8F0FE;\n",
              "      border: none;\n",
              "      border-radius: 50%;\n",
              "      cursor: pointer;\n",
              "      display: none;\n",
              "      fill: #1967D2;\n",
              "      height: 32px;\n",
              "      padding: 0 0 0 0;\n",
              "      width: 32px;\n",
              "    }\n",
              "\n",
              "    .colab-df-convert:hover {\n",
              "      background-color: #E2EBFA;\n",
              "      box-shadow: 0px 1px 2px rgba(60, 64, 67, 0.3), 0px 1px 3px 1px rgba(60, 64, 67, 0.15);\n",
              "      fill: #174EA6;\n",
              "    }\n",
              "\n",
              "    .colab-df-buttons div {\n",
              "      margin-bottom: 4px;\n",
              "    }\n",
              "\n",
              "    [theme=dark] .colab-df-convert {\n",
              "      background-color: #3B4455;\n",
              "      fill: #D2E3FC;\n",
              "    }\n",
              "\n",
              "    [theme=dark] .colab-df-convert:hover {\n",
              "      background-color: #434B5C;\n",
              "      box-shadow: 0px 1px 3px 1px rgba(0, 0, 0, 0.15);\n",
              "      filter: drop-shadow(0px 1px 2px rgba(0, 0, 0, 0.3));\n",
              "      fill: #FFFFFF;\n",
              "    }\n",
              "  </style>\n",
              "\n",
              "    <script>\n",
              "      const buttonEl =\n",
              "        document.querySelector('#df-58bf1bda-d041-4042-a1bc-926f83e1765e button.colab-df-convert');\n",
              "      buttonEl.style.display =\n",
              "        google.colab.kernel.accessAllowed ? 'block' : 'none';\n",
              "\n",
              "      async function convertToInteractive(key) {\n",
              "        const element = document.querySelector('#df-58bf1bda-d041-4042-a1bc-926f83e1765e');\n",
              "        const dataTable =\n",
              "          await google.colab.kernel.invokeFunction('convertToInteractive',\n",
              "                                                    [key], {});\n",
              "        if (!dataTable) return;\n",
              "\n",
              "        const docLinkHtml = 'Like what you see? Visit the ' +\n",
              "          '<a target=\"_blank\" href=https://colab.research.google.com/notebooks/data_table.ipynb>data table notebook</a>'\n",
              "          + ' to learn more about interactive tables.';\n",
              "        element.innerHTML = '';\n",
              "        dataTable['output_type'] = 'display_data';\n",
              "        await google.colab.output.renderOutput(dataTable, element);\n",
              "        const docLink = document.createElement('div');\n",
              "        docLink.innerHTML = docLinkHtml;\n",
              "        element.appendChild(docLink);\n",
              "      }\n",
              "    </script>\n",
              "  </div>\n",
              "\n",
              "\n",
              "<div id=\"df-d976d944-74b8-4fd8-92a3-3204273561ef\">\n",
              "  <button class=\"colab-df-quickchart\" onclick=\"quickchart('df-d976d944-74b8-4fd8-92a3-3204273561ef')\"\n",
              "            title=\"Suggest charts\"\n",
              "            style=\"display:none;\">\n",
              "\n",
              "<svg xmlns=\"http://www.w3.org/2000/svg\" height=\"24px\"viewBox=\"0 0 24 24\"\n",
              "     width=\"24px\">\n",
              "    <g>\n",
              "        <path d=\"M19 3H5c-1.1 0-2 .9-2 2v14c0 1.1.9 2 2 2h14c1.1 0 2-.9 2-2V5c0-1.1-.9-2-2-2zM9 17H7v-7h2v7zm4 0h-2V7h2v10zm4 0h-2v-4h2v4z\"/>\n",
              "    </g>\n",
              "</svg>\n",
              "  </button>\n",
              "\n",
              "<style>\n",
              "  .colab-df-quickchart {\n",
              "      --bg-color: #E8F0FE;\n",
              "      --fill-color: #1967D2;\n",
              "      --hover-bg-color: #E2EBFA;\n",
              "      --hover-fill-color: #174EA6;\n",
              "      --disabled-fill-color: #AAA;\n",
              "      --disabled-bg-color: #DDD;\n",
              "  }\n",
              "\n",
              "  [theme=dark] .colab-df-quickchart {\n",
              "      --bg-color: #3B4455;\n",
              "      --fill-color: #D2E3FC;\n",
              "      --hover-bg-color: #434B5C;\n",
              "      --hover-fill-color: #FFFFFF;\n",
              "      --disabled-bg-color: #3B4455;\n",
              "      --disabled-fill-color: #666;\n",
              "  }\n",
              "\n",
              "  .colab-df-quickchart {\n",
              "    background-color: var(--bg-color);\n",
              "    border: none;\n",
              "    border-radius: 50%;\n",
              "    cursor: pointer;\n",
              "    display: none;\n",
              "    fill: var(--fill-color);\n",
              "    height: 32px;\n",
              "    padding: 0;\n",
              "    width: 32px;\n",
              "  }\n",
              "\n",
              "  .colab-df-quickchart:hover {\n",
              "    background-color: var(--hover-bg-color);\n",
              "    box-shadow: 0 1px 2px rgba(60, 64, 67, 0.3), 0 1px 3px 1px rgba(60, 64, 67, 0.15);\n",
              "    fill: var(--button-hover-fill-color);\n",
              "  }\n",
              "\n",
              "  .colab-df-quickchart-complete:disabled,\n",
              "  .colab-df-quickchart-complete:disabled:hover {\n",
              "    background-color: var(--disabled-bg-color);\n",
              "    fill: var(--disabled-fill-color);\n",
              "    box-shadow: none;\n",
              "  }\n",
              "\n",
              "  .colab-df-spinner {\n",
              "    border: 2px solid var(--fill-color);\n",
              "    border-color: transparent;\n",
              "    border-bottom-color: var(--fill-color);\n",
              "    animation:\n",
              "      spin 1s steps(1) infinite;\n",
              "  }\n",
              "\n",
              "  @keyframes spin {\n",
              "    0% {\n",
              "      border-color: transparent;\n",
              "      border-bottom-color: var(--fill-color);\n",
              "      border-left-color: var(--fill-color);\n",
              "    }\n",
              "    20% {\n",
              "      border-color: transparent;\n",
              "      border-left-color: var(--fill-color);\n",
              "      border-top-color: var(--fill-color);\n",
              "    }\n",
              "    30% {\n",
              "      border-color: transparent;\n",
              "      border-left-color: var(--fill-color);\n",
              "      border-top-color: var(--fill-color);\n",
              "      border-right-color: var(--fill-color);\n",
              "    }\n",
              "    40% {\n",
              "      border-color: transparent;\n",
              "      border-right-color: var(--fill-color);\n",
              "      border-top-color: var(--fill-color);\n",
              "    }\n",
              "    60% {\n",
              "      border-color: transparent;\n",
              "      border-right-color: var(--fill-color);\n",
              "    }\n",
              "    80% {\n",
              "      border-color: transparent;\n",
              "      border-right-color: var(--fill-color);\n",
              "      border-bottom-color: var(--fill-color);\n",
              "    }\n",
              "    90% {\n",
              "      border-color: transparent;\n",
              "      border-bottom-color: var(--fill-color);\n",
              "    }\n",
              "  }\n",
              "</style>\n",
              "\n",
              "  <script>\n",
              "    async function quickchart(key) {\n",
              "      const quickchartButtonEl =\n",
              "        document.querySelector('#' + key + ' button');\n",
              "      quickchartButtonEl.disabled = true;  // To prevent multiple clicks.\n",
              "      quickchartButtonEl.classList.add('colab-df-spinner');\n",
              "      try {\n",
              "        const charts = await google.colab.kernel.invokeFunction(\n",
              "            'suggestCharts', [key], {});\n",
              "      } catch (error) {\n",
              "        console.error('Error during call to suggestCharts:', error);\n",
              "      }\n",
              "      quickchartButtonEl.classList.remove('colab-df-spinner');\n",
              "      quickchartButtonEl.classList.add('colab-df-quickchart-complete');\n",
              "    }\n",
              "    (() => {\n",
              "      let quickchartButtonEl =\n",
              "        document.querySelector('#df-d976d944-74b8-4fd8-92a3-3204273561ef button');\n",
              "      quickchartButtonEl.style.display =\n",
              "        google.colab.kernel.accessAllowed ? 'block' : 'none';\n",
              "    })();\n",
              "  </script>\n",
              "</div>\n",
              "\n",
              "    </div>\n",
              "  </div>\n"
            ],
            "application/vnd.google.colaboratory.intrinsic+json": {
              "type": "dataframe",
              "variable_name": "df",
              "summary": "{\n  \"name\": \"df\",\n  \"rows\": 20,\n  \"fields\": [\n    {\n      \"column\": \"Grainsize\",\n      \"properties\": {\n        \"dtype\": \"number\",\n        \"std\": 27.585240153737097,\n        \"min\": 2.689283565,\n        \"max\": 97.02276558,\n        \"num_unique_values\": 20,\n        \"samples\": [\n          2.689283565,\n          76.98991133,\n          71.21556216\n        ],\n        \"semantic_type\": \"\",\n        \"description\": \"\"\n      }\n    },\n    {\n      \"column\": \"Porosity\",\n      \"properties\": {\n        \"dtype\": \"number\",\n        \"std\": 4.784658050275248,\n        \"min\": 5.4,\n        \"max\": 23.43117181,\n        \"num_unique_values\": 20,\n        \"samples\": [\n          5.4,\n          22.98350967,\n          17.48670288\n        ],\n        \"semantic_type\": \"\",\n        \"description\": \"\"\n      }\n    }\n  ]\n}"
            }
          },
          "metadata": {},
          "execution_count": 8
        }
      ]
    },
    {
      "cell_type": "code",
      "source": [
        "for x in df.columns:\n",
        "    print(x)\n",
        "\n",
        "data = df.to_numpy()\n",
        "X = data[:,0]\n",
        "y = data[:,1]\n",
        "\n",
        "m = y.size\n",
        "print('Número de exemplos de treinamento: ',m)\n",
        "\n",
        "X_train, y_train = np.expand_dims(X,axis=1), np.expand_dims(y,axis=1)"
      ],
      "metadata": {
        "colab": {
          "base_uri": "https://localhost:8080/"
        },
        "id": "wbJLr3VL2NfQ",
        "outputId": "a6d711a7-bb32-4428-abdc-50746783d93d"
      },
      "execution_count": null,
      "outputs": [
        {
          "output_type": "stream",
          "name": "stdout",
          "text": [
            "Grainsize\n",
            "Porosity\n",
            "Número de exemplos de treinamento:  20\n"
          ]
        }
      ]
    },
    {
      "cell_type": "code",
      "source": [
        "from sklearn.model_selection import train_test_split\n",
        "\n",
        "X_train, X_val, y_train, y_val = train_test_split(X_train, y_train, test_size=0.2, random_state=42)"
      ],
      "metadata": {
        "id": "zw-Scug8Zy5J"
      },
      "execution_count": null,
      "outputs": []
    },
    {
      "cell_type": "code",
      "source": [
        "plt.scatter(X_train,y_train,c='red')\n",
        "plt.xlabel('Tamanho de Grão')\n",
        "plt.ylabel('Porosidade em %')"
      ],
      "metadata": {
        "colab": {
          "base_uri": "https://localhost:8080/",
          "height": 467
        },
        "id": "mh7dFr0b2V5-",
        "outputId": "aaf99f25-1ef1-4b3d-d454-f2aafb52333d"
      },
      "execution_count": null,
      "outputs": [
        {
          "output_type": "execute_result",
          "data": {
            "text/plain": [
              "Text(0, 0.5, 'Porosidade em %')"
            ]
          },
          "metadata": {},
          "execution_count": 28
        },
        {
          "output_type": "display_data",
          "data": {
            "text/plain": [
              "<Figure size 640x480 with 1 Axes>"
            ],
            "image/png": "[encoded data removed]"
          },
          "metadata": {}
        }
      ]
    },
    {
      "cell_type": "markdown",
      "source": [
        "## Implementando \"do zero\""
      ],
      "metadata": {
        "id": "zOOj8x-ABuyM"
      }
    },
    {
      "cell_type": "markdown",
      "source": [
        "Fórmula da Equação Normal para solução do Método dos Mínimos Quadrados:\n",
        "\n",
        "$$ \\theta = (X^{T} X)^{-1} X^{T} y$$"
      ],
      "metadata": {
        "id": "CeYqjDf1We6k"
      }
    },
    {
      "cell_type": "code",
      "source": [
        "class NormalEqLinearRegression:\n",
        "    def __init__(self, n_features):\n",
        "        self.theta = np.random.random_sample((n_features+1, 1))\n",
        "\n",
        "    def fit(self, X, y):\n",
        "        m, n = X.shape\n",
        "        y = y.reshape((m, 1))\n",
        "        self.normal_equation(X, y)\n",
        "\n",
        "    def predict(self, X):\n",
        "        m, n = X.shape\n",
        "        y_pred = X.dot(self.theta)\n",
        "        return y_pred.flatten()\n",
        "\n",
        "    def normal_equation(self, X, y):\n",
        "        # implemente a equação normal"
      ],
      "metadata": {
        "id": "3SR61_2VaMY1",
        "colab": {
          "base_uri": "https://localhost:8080/",
          "height": 108
        },
        "outputId": "722c932b-3c6f-48f7-8d2f-87df2a62e787",
        "collapsed": true
      },
      "execution_count": null,
      "outputs": [
        {
          "output_type": "error",
          "ename": "SyntaxError",
          "evalue": "incomplete input (<ipython-input-30-b03384b43974>, line 23)",
          "traceback": [
            "\u001b[0;36m  File \u001b[0;32m\"<ipython-input-30-b03384b43974>\"\u001b[0;36m, line \u001b[0;32m23\u001b[0m\n\u001b[0;31m    # implemente a equação normal\u001b[0m\n\u001b[0m                                 ^\u001b[0m\n\u001b[0;31mSyntaxError\u001b[0m\u001b[0;31m:\u001b[0m incomplete input\n"
          ]
        }
      ]
    },
    {
      "cell_type": "code",
      "source": [
        "model_lr = NormalEqLinearRegression(n_features=2)\n",
        "model_lr.fit(X_train, y_train)\n",
        "y_pred = model_lr.predict(X_val)\n",
        "\n",
        "print(\"MSE: \", ...)"
      ],
      "metadata": {
        "id": "i4BeCcMJAM8X"
      },
      "execution_count": null,
      "outputs": []
    },
    {
      "cell_type": "markdown",
      "source": [
        "Uma maneira de fazer isso é usar o algoritmo de descida gradiente em lote. Na descida do gradiente do lote, cada iteração realiza a atualização\n",
        "\n",
        "$$ \\theta_j = \\theta_j - \\alpha \\frac {1} {m} \\sum_ {i = 1}^m \\left (h_\\theta (x^{(i)}) - y^{(i)} \\right) x_j^{(i)} \\qquad \\text{ atualizar simultaneamente } \\theta_j \\text { para todos } j$$\n",
        "onde\n",
        "$$\\frac {1} {m} \\sum_ {i = 1}^m \\left (h_\\theta (x^{(i)}) - y^{(i)} \\right) x_j^{(i)}$$ é a **derivada** de $ L2 (\\Theta)$  em relação a cada parâmetro $\\theta_j$ (para simplificar a fórmula de deriada é que dividimos por 2 a função de custo)."
      ],
      "metadata": {
        "id": "dO8T_-tVBsPw"
      }
    },
    {
      "cell_type": "code",
      "execution_count": null,
      "metadata": {
        "id": "u_87qd-0ZGzE"
      },
      "outputs": [],
      "source": [
        "class SGDLinearRegression:\n",
        "    def __init__(self, learning_rate, n_features, n_epochs=1000):\n",
        "        self.learning_rate = learning_rate\n",
        "        self.theta = np.random.random_sample((n_features + 1, 1))\n",
        "        self.n_epochs = n_epochs\n",
        "\n",
        "    def fit(self, X, y):\n",
        "        m, n = X.shape\n",
        "        y = y.reshape((m, 1))\n",
        "\n",
        "        loss_hist = []\n",
        "        for i in range(self.n_epochs):\n",
        "            loss = self.gradient_descent(X, y, m, n)\n",
        "            loss_hist.append(loss)\n",
        "        return loss_hist\n",
        "\n",
        "    def predict(self, X):\n",
        "        m, n = X.shape\n",
        "        y_pred = X.dot(self.theta)\n",
        "        return y_pred.flatten()\n",
        "\n",
        "    def gradient_descent(self, X, y, m, n):\n",
        "        # IMPLEMENTE A DESCIDA DO GRADIENTE\n",
        "        return 0.0"
      ]
    },
    {
      "cell_type": "code",
      "source": [
        "model_lr = SGDLinearRegression(learning_rate=0.02, n_features=2, n_epochs=1000)\n",
        "cost_hist = model_lr.fit(X_train, y_train)"
      ],
      "metadata": {
        "id": "-NIrUtpV9049"
      },
      "execution_count": null,
      "outputs": []
    },
    {
      "cell_type": "code",
      "source": [
        "y_pred = model_lr.predict(X_val)\n",
        "\n",
        "print(\"MSE: \", ...)"
      ],
      "metadata": {
        "id": "NR1C-SoxBKY0"
      },
      "execution_count": null,
      "outputs": []
    },
    {
      "cell_type": "code",
      "source": [
        "plt.plot(cost_hist)\n",
        "plt.title(\"Cost function vs. Number of epochs\")\n",
        "plt.xlabel(\"Epoch\")\n",
        "plt.ylabel(\"Cost\")"
      ],
      "metadata": {
        "id": "TG405x0ofspV",
        "colab": {
          "base_uri": "https://localhost:8080/",
          "height": 197
        },
        "outputId": "4692bf88-a5bc-4af2-a31e-d14620246e3b",
        "collapsed": true
      },
      "execution_count": null,
      "outputs": [
        {
          "output_type": "error",
          "ename": "NameError",
          "evalue": "name 'cost_hist' is not defined",
          "traceback": [
            "\u001b[0;31m---------------------------------------------------------------------------\u001b[0m",
            "\u001b[0;31mNameError\u001b[0m                                 Traceback (most recent call last)",
            "\u001b[0;32m<ipython-input-26-fd78e154a96d>\u001b[0m in \u001b[0;36m<cell line: 1>\u001b[0;34m()\u001b[0m\n\u001b[0;32m----> 1\u001b[0;31m \u001b[0mplt\u001b[0m\u001b[0;34m.\u001b[0m\u001b[0mplot\u001b[0m\u001b[0;34m(\u001b[0m\u001b[0mcost_hist\u001b[0m\u001b[0;34m)\u001b[0m\u001b[0;34m\u001b[0m\u001b[0;34m\u001b[0m\u001b[0m\n\u001b[0m\u001b[1;32m      2\u001b[0m \u001b[0mplt\u001b[0m\u001b[0;34m.\u001b[0m\u001b[0mtitle\u001b[0m\u001b[0;34m(\u001b[0m\u001b[0;34m\"Cost function vs. Number of epochs\"\u001b[0m\u001b[0;34m)\u001b[0m\u001b[0;34m\u001b[0m\u001b[0;34m\u001b[0m\u001b[0m\n\u001b[1;32m      3\u001b[0m \u001b[0mplt\u001b[0m\u001b[0;34m.\u001b[0m\u001b[0mxlabel\u001b[0m\u001b[0;34m(\u001b[0m\u001b[0;34m\"Epoch\"\u001b[0m\u001b[0;34m)\u001b[0m\u001b[0;34m\u001b[0m\u001b[0;34m\u001b[0m\u001b[0m\n\u001b[1;32m      4\u001b[0m \u001b[0mplt\u001b[0m\u001b[0;34m.\u001b[0m\u001b[0mylabel\u001b[0m\u001b[0;34m(\u001b[0m\u001b[0;34m\"Cost\"\u001b[0m\u001b[0;34m)\u001b[0m\u001b[0;34m\u001b[0m\u001b[0;34m\u001b[0m\u001b[0m\n",
            "\u001b[0;31mNameError\u001b[0m: name 'cost_hist' is not defined"
          ]
        }
      ]
    },
    {
      "cell_type": "markdown",
      "source": [
        "# Comparando as implementações com SKLearn"
      ],
      "metadata": {
        "id": "k9b7ET39AlEF"
      }
    },
    {
      "cell_type": "markdown",
      "source": [
        "### Regressão Linear\n",
        "Um problema de Regressão é aquele onde tentamos predizer o valor de uma variável **contínua** de saída.\n",
        "\n",
        "Quando vemos uma relação em um diagrama de dispersão, podemos usar uma reta para modelar essa relação nos dados. Também podemos usar essa reta para fazer previsões a partir dos dados. Este processo é chamado de regressão linear.\n",
        "### Definindo a Hipótese\n",
        "Olhando para estes dados, podemos imaginar que uma \"linha reta\" é uma **hipótese** bastante razoável para modelar o Tamanho de Grão está relacionado com a Porosidade. Vamos então nos lembrar da **Equação da Reta**:\n",
        "\n",
        "$$h_\\theta(x) = \\theta_0 + \\theta_1x$$\n",
        "\n",
        "onde $\\theta_0$ é a interceptação em $y$ (*intercept*) e $\\theta_1$ é o coeficiente angular da reta (*slope*).\n",
        "### Parâmetros do Modelo\n",
        "Se variarmos $\\theta_0$ e $\\theta_1$ podemos criar infinitas retas."
      ],
      "metadata": {
        "id": "do0NG49xBhyO"
      }
    },
    {
      "cell_type": "code",
      "source": [
        "from sklearn.linear_model import LinearRegression\n",
        "\n",
        "model_ne = LinearRegression()\n",
        "model_ne.fit(X_train, y_train)"
      ],
      "metadata": {
        "id": "WN7zBzBAZzTc"
      },
      "execution_count": null,
      "outputs": []
    },
    {
      "cell_type": "code",
      "source": [
        "y_pred = model_ne.predict(X_val)\n",
        "\n",
        "print(\"MSE: \", ...)"
      ],
      "metadata": {
        "id": "BVnscIOYBOdi"
      },
      "execution_count": null,
      "outputs": []
    },
    {
      "cell_type": "markdown",
      "source": [
        "Um método chave no aprendizado de máquina é a regressão de descida de gradiente estocástico (SGD). É essencial para muitas atividades de regressão e ajuda na criação de modelos preditivos para uma variedade de usos."
      ],
      "metadata": {
        "id": "8XUyTf9gBqNg"
      }
    },
    {
      "cell_type": "code",
      "source": [
        "from sklearn.linear_model import SGDRegressor\n",
        "\n",
        "regressor = SGDRegressor(\n",
        "    penalty=None,\n",
        "    verbose=1,\n",
        "    learning_rate='constant',\n",
        "    eta0=0.02\n",
        ")\n",
        "\n",
        "model_regressor = regressor.fit(X_train, y_train)"
      ],
      "metadata": {
        "id": "nJP8Kb5gZvP3"
      },
      "execution_count": null,
      "outputs": []
    },
    {
      "cell_type": "code",
      "source": [
        "y_pred = model_regressor.predict(X_val)\n",
        "\n",
        "print(\"MSE: \", ...)"
      ],
      "metadata": {
        "id": "T9AJ-zL9BRmt"
      },
      "execution_count": null,
      "outputs": []
    }
  ]
}