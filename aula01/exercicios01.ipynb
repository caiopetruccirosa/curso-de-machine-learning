{
  "cells": [
    {
      "cell_type": "markdown",
      "metadata": {
        "id": "O-0OHrsFhwdk"
      },
      "source": [
        "# REVISÃO\n",
        "\n",
        "Tipos de dados:\n",
        "\n",
        "Para analisar dados, é importante saber com que tipo de dados estamos lidando.\n",
        "\n",
        "Podemos dividir os tipos de dados em três categorias principais:\n",
        "\n",
        "Numérico\n",
        "Categórico\n",
        "Ordinal\n",
        "\n",
        "*   Numérico\n",
        "*   Categórico\n",
        "*   Ordinal\n",
        "\n",
        "\n",
        "\n",
        "\n",
        "\n",
        "\n",
        "Os dados numéricos são números e podem ser divididos em duas categorias numéricas:\n",
        "\n",
        "Dados discretos:\n",
        "- dados contados limitados a números inteiros. Exemplo: O número de carros que passam.\n",
        " Dados Contínuos\n",
        "- dados medidos que podem ser qualquer número. Exemplo: o preço de um item ou o tamanho de um item\n",
        "\n",
        "Dados categóricos são valores que não podem ser medidos entre si. Exemplo: um valor de cor ou qualquer valor sim/não.\n",
        "\n",
        "Os dados ordinais são como dados categóricos, mas podem ser comparados uns com os outros. Exemplo: notas escolares onde A é melhor que B e assim por diante.\n",
        "\n",
        "Ao conhecer o tipo de dados da sua fonte de dados, você saberá qual técnica usar ao analisá-los.\n",
        "\n",
        "Você aprenderá mais sobre estatísticas e análise de dados nos próximos capítulos."
      ]
    },
    {
      "cell_type": "code",
      "execution_count": null,
      "metadata": {
        "id": "jfTuGfCihqsZ"
      },
      "outputs": [],
      "source": [
        "#Bibliotecas\n",
        "import math\n",
        "import numpy as np\n",
        "import matplotlib.pyplot as plt\n",
        "import pandas as pd"
      ]
    },
    {
      "cell_type": "markdown",
      "metadata": {
        "id": "7MKMoqwJj5fH"
      },
      "source": [
        "#MÉDIA, MEDIANA E MODA\n",
        "\n",
        "Em Machine Learning (e em estátistica) existem frequentemente três valores que nos interessam:\n",
        "\n",
        "    Média    - O valor médio\n",
        "    Mediana  - O valor do ponto médio\n",
        "    Moda     - O valor mais comum\n",
        "\n",
        "Exemplo: Registramos a velocidade de 13 carros:"
      ]
    },
    {
      "cell_type": "code",
      "execution_count": null,
      "metadata": {
        "id": "oJRv-nbQjWis"
      },
      "outputs": [],
      "source": [
        "velocidade = [99,86,87,88,111,86,103,87,94,78,77,85,86]"
      ]
    },
    {
      "cell_type": "markdown",
      "metadata": {
        "id": "PoCKzP2XmEof"
      },
      "source": [
        "Qual é o valor de velocidade da média, mediana ou moda?\n",
        "\n",
        "#MÉDIA\n",
        "\n",
        "Para calcular a média, encontre a soma de todos os valores e divida a soma pelo número de valores:"
      ]
    },
    {
      "cell_type": "code",
      "execution_count": null,
      "metadata": {
        "colab": {
          "base_uri": "https://localhost:8080/"
        },
        "id": "3zxJRExQmDA4",
        "outputId": "a419bc08-755e-46ed-b584-f59761fc6132"
      },
      "outputs": [
        {
          "data": {
            "text/plain": [
              "89.76923076923077"
            ]
          },
          "execution_count": 3,
          "metadata": {},
          "output_type": "execute_result"
        }
      ],
      "source": [
        "(99+86+87+88+111+86+103+87+94+78+77+85+86) / 13"
      ]
    },
    {
      "cell_type": "markdown",
      "metadata": {
        "id": "VwlToMY8nJSq"
      },
      "source": [
        "O módulo NumPy possui um método para isso."
      ]
    },
    {
      "cell_type": "code",
      "execution_count": null,
      "metadata": {
        "colab": {
          "base_uri": "https://localhost:8080/"
        },
        "id": "bTLmjrkcnO5P",
        "outputId": "1119ca6c-c631-410b-f71d-64f674106720"
      },
      "outputs": [
        {
          "name": "stdout",
          "output_type": "stream",
          "text": [
            "89.76923076923077\n"
          ]
        }
      ],
      "source": [
        "import numpy\n",
        "\n",
        "velocidade = [99,86,87,88,111,86,103,87,94,78,77,85,86]\n",
        "\n",
        "x = numpy.mean(velocidade)\n",
        "\n",
        "print(x)"
      ]
    },
    {
      "cell_type": "markdown",
      "metadata": {
        "id": "FzhHljJencu0"
      },
      "source": [
        "#MEDIANA\n",
        "\n",
        "O valor da mediana é o valor intermediário depois de ordenadar todos os valores.\n",
        "\n",
        "\n",
        "\n",
        "77, 78, 85, 86, 86, 86, ***87***, 87, 88, 94, 99, 103, 111\n",
        "\n"
      ]
    },
    {
      "cell_type": "markdown",
      "metadata": {
        "id": "tA33LBWwoBi2"
      },
      "source": [
        "O módulo NumPy possui um método para isso. Use o método NumPy median() para encontrar a mediana"
      ]
    },
    {
      "cell_type": "code",
      "execution_count": null,
      "metadata": {
        "colab": {
          "base_uri": "https://localhost:8080/"
        },
        "id": "42FVy3evnbyu",
        "outputId": "7d1a617f-efb8-4b6e-be85-0893fc8da7bf"
      },
      "outputs": [
        {
          "name": "stdout",
          "output_type": "stream",
          "text": [
            "87.0\n"
          ]
        }
      ],
      "source": [
        "import numpy\n",
        "\n",
        "velocidade = [99,86,87,88,111,86,103,87,94,78,77,85,86]\n",
        "\n",
        "x = numpy.median(velocidade)\n",
        "\n",
        "print(x)"
      ]
    },
    {
      "cell_type": "markdown",
      "metadata": {
        "id": "aRqeFJsvofZw"
      },
      "source": [
        "Se houver dois números no meio, divida a soma desses números por dois.\n",
        "\n",
        "77, 78, 85, 86, 86, ***86, 87***, 87, 94, 98, 99, 103"
      ]
    },
    {
      "cell_type": "code",
      "execution_count": null,
      "metadata": {
        "colab": {
          "base_uri": "https://localhost:8080/"
        },
        "id": "TscxeiF7odO9",
        "outputId": "4eba7617-48b8-438d-fdaa-c1aa46331ab5"
      },
      "outputs": [
        {
          "data": {
            "text/plain": [
              "86.5"
            ]
          },
          "execution_count": 6,
          "metadata": {},
          "output_type": "execute_result"
        }
      ],
      "source": [
        "(86 + 87) / 2"
      ]
    },
    {
      "cell_type": "markdown",
      "metadata": {
        "id": "aSW5y2QAotKv"
      },
      "source": [
        "Usando o módulo NumPy"
      ]
    },
    {
      "cell_type": "code",
      "execution_count": null,
      "metadata": {
        "colab": {
          "base_uri": "https://localhost:8080/"
        },
        "id": "Dji4WZ2DosN7",
        "outputId": "f1abd432-5e43-4889-bc9e-d57518f5e905"
      },
      "outputs": [
        {
          "name": "stdout",
          "output_type": "stream",
          "text": [
            "86.5\n"
          ]
        }
      ],
      "source": [
        "import numpy\n",
        "\n",
        "velocidade = [99,86,87,88,86,103,87,94,78,77,85,86]\n",
        "\n",
        "x = numpy.median(velocidade)\n",
        "\n",
        "print(x)"
      ]
    },
    {
      "cell_type": "markdown",
      "metadata": {
        "id": "ctVgyu5cpB3p"
      },
      "source": [
        "#MODA\n",
        "\n",
        "A moda é o valor que aparece o mair número de vezes:\n",
        "\n",
        "\n",
        "\n",
        "99, 86, 87, 88, 111, 86, 103, 87, 94, 78, 77, 85, 86 = 86\n"
      ]
    },
    {
      "cell_type": "markdown",
      "metadata": {
        "id": "zU2E6t8VpUsL"
      },
      "source": [
        "O módulo SciPy possui um método para obtermos esse valor.\n",
        "Use o método SciPy mode() para encontrar o número que aparece mais:"
      ]
    },
    {
      "cell_type": "code",
      "execution_count": null,
      "metadata": {
        "colab": {
          "base_uri": "https://localhost:8080/"
        },
        "id": "nnzdT8JwpBhv",
        "outputId": "1b0bf46a-0377-48c3-8716-516570b18c4a"
      },
      "outputs": [
        {
          "name": "stdout",
          "output_type": "stream",
          "text": [
            "ModeResult(mode=86, count=3)\n"
          ]
        }
      ],
      "source": [
        "from scipy import stats\n",
        "\n",
        "velocidade = [99,86,87,88,111,86,103,87,94,78,77,85,86]\n",
        "\n",
        "x = stats.mode(velocidade)\n",
        "\n",
        "print(x)"
      ]
    },
    {
      "cell_type": "markdown",
      "metadata": {
        "id": "BkU3_SSdpreX"
      },
      "source": [
        "#O que é desvio padrão?\n",
        "O desvio padrão é um número que descreve a distribuição dos valores.\n",
        "\n",
        "Um desvio padrão baixo significa que a maioria dos números está próxima do valor médio (médio).\n",
        "\n",
        "Um desvio padrão elevado significa que os valores estão espalhados por uma faixa mais ampla.\n",
        "\n",
        "Exemplo: Desta vez registamos a velocidade de 7 carros:\n",
        "\n",
        "\n"
      ]
    },
    {
      "cell_type": "code",
      "execution_count": null,
      "metadata": {
        "id": "fNKzA3jup2Rh"
      },
      "outputs": [],
      "source": [
        "velocidade_2 = [86,87,88,86,87,85,86]"
      ]
    },
    {
      "cell_type": "markdown",
      "metadata": {
        "id": "YkHdNLG3p-9s"
      },
      "source": [
        "O desvio padrão é:\n",
        "0.9"
      ]
    },
    {
      "cell_type": "markdown",
      "metadata": {
        "id": "gfP-R4hRqPAY"
      },
      "source": [
        "O que significa que a maioria dos valores está dentro da faixa de 0,9 do valor médio, que é 86,4.\n",
        "\n",
        "Façamos o mesmo com uma seleção de números com um intervalo mais amplo:"
      ]
    },
    {
      "cell_type": "code",
      "execution_count": null,
      "metadata": {
        "id": "Qaz4YdhDpAPX"
      },
      "outputs": [],
      "source": [
        "velocidade_3 = [32,111,138,28,59,77,97]\n"
      ]
    },
    {
      "cell_type": "markdown",
      "metadata": {
        "id": "nrlWWlKLqX8E"
      },
      "source": [
        "O desvio pardão é: 37.85\n",
        "\n",
        "O que significa que a maioria dos valores está na faixa de 37,85 do valor médio, que é 77,4.\n",
        "\n",
        "Como você pode ver, um desvio padrão mais alto indica que os valores estão espalhados por uma faixa mais ampla.\n",
        "\n",
        "O módulo NumPy possui um método para calcular o desvio padrã. Use o método NumPy std() para encontrar o desvio padrão"
      ]
    },
    {
      "cell_type": "code",
      "execution_count": null,
      "metadata": {
        "colab": {
          "base_uri": "https://localhost:8080/"
        },
        "id": "QEOX-yqTqW1m",
        "outputId": "44575637-5d3e-4c2a-9f4e-bee8b1d4fec9"
      },
      "outputs": [
        {
          "name": "stdout",
          "output_type": "stream",
          "text": [
            "0.9035079029052513\n"
          ]
        }
      ],
      "source": [
        "import numpy\n",
        "\n",
        "velocidade_2 = [86,87,88,86,87,85,86]\n",
        "\n",
        "x = numpy.std(velocidade_2)\n",
        "\n",
        "print(x)"
      ]
    },
    {
      "cell_type": "code",
      "execution_count": null,
      "metadata": {
        "colab": {
          "base_uri": "https://localhost:8080/"
        },
        "id": "B1uYNTwjrNaD",
        "outputId": "c9474382-7357-483c-9edf-f898cfce6ed1"
      },
      "outputs": [
        {
          "name": "stdout",
          "output_type": "stream",
          "text": [
            "37.84501153334721\n"
          ]
        }
      ],
      "source": [
        "import numpy\n",
        "\n",
        "velocidade_3 = [32,111,138,28,59,77,97]\n",
        "\n",
        "x = numpy.std(velocidade_3)\n",
        "\n",
        "print(x)"
      ]
    },
    {
      "cell_type": "markdown",
      "metadata": {
        "id": "E410gvRCrWYL"
      },
      "source": [
        "#VARIÂNCIA\n",
        "\n",
        "A variância é outro número que indica quão dispersos estão os valores\n",
        "\n",
        "💻 Na verdade, se você tirar a raiz quadrada da variância, obterá o desvio padrão! Ou vice-versa, se você multiplicar o desvio padrão por ele mesmo, obtém a variância!\n",
        "\n",
        "Para calcular a variância você deve fazer o seguinte:\n",
        "\n",
        "1. Encontre a média:\n",
        "(32+111+138+28+59+77+97) / 7 = 77.4\n",
        "\n",
        "2. Para cada valor: encontre a diferença da média:\n",
        "\n",
        " 32 - 77.4 = -45.4\n",
        "111 - 77.4 =  33.6\n",
        "138 - 77.4 =  60.6\n",
        " 28 - 77.4 = -49.4\n",
        " 59 - 77.4 = -18.4\n",
        " 77 - 77.4 = - 0.4\n",
        " 97 - 77.4 =  19.6\n",
        "\n",
        "3. Para cada diferença: encontre o valor quadrado:\n",
        "\n",
        "(-45.4)² = 2061.16\n",
        " (33.6)² = 1128.96\n",
        " (60.6)² = 3672.36\n",
        "(-49.4)² = 2440.36\n",
        "(-18.4)² =  338.56\n",
        "(- 0.4)² =    0.16\n",
        " (19.6)² =  384.16\n",
        "\n",
        "\n",
        "4. A variância é o número médio dessas diferenças quadradas:\n",
        "\n",
        "(2061.16+1128.96+3672.36+2440.36+338.56+0.16+384.16) / 7 = 1432.2\n",
        "\n",
        "\n",
        "Felizmente, NumPy tem um método para calcular a variação. Use o método NumPy var() para encontrar a variação:\n",
        "\n",
        "\n",
        "\n",
        "\n",
        "\n",
        "\n",
        "\n",
        "\n"
      ]
    },
    {
      "cell_type": "code",
      "execution_count": null,
      "metadata": {
        "colab": {
          "base_uri": "https://localhost:8080/"
        },
        "id": "xt7Q6evPs6iE",
        "outputId": "ad53ef6e-7ac2-463d-aa8a-f6acab115fd9"
      },
      "outputs": [
        {
          "name": "stdout",
          "output_type": "stream",
          "text": [
            "1432.2448979591834\n"
          ]
        }
      ],
      "source": [
        "import numpy\n",
        "\n",
        "velocidade_3 = [32,111,138,28,59,77,97]\n",
        "\n",
        "x = numpy.var(velocidade_3)\n",
        "\n",
        "print(x)"
      ]
    },
    {
      "cell_type": "markdown",
      "metadata": {
        "id": "WMDyXEEutEEn"
      },
      "source": [
        "#DESVIO PADRÃO\n",
        "Como aprendemos, a fórmula para encontrar o desvio padrão é a raiz quadrada da variância:\n",
        "\n",
        "√1432.25 = 37.85\n",
        "\n",
        "Ou, como no exemplo anterior, use o NumPy para calcular o desvio padrão.Use o método NumPy std() para encontrar o desvio padrão:\n",
        "\n",
        "\n",
        "\n"
      ]
    },
    {
      "cell_type": "code",
      "execution_count": null,
      "metadata": {
        "colab": {
          "base_uri": "https://localhost:8080/"
        },
        "id": "tCmJdqkitd37",
        "outputId": "55f650a2-121d-4990-a402-d251b373e17e"
      },
      "outputs": [
        {
          "name": "stdout",
          "output_type": "stream",
          "text": [
            "37.84501153334721\n"
          ]
        }
      ],
      "source": [
        "import numpy\n",
        "\n",
        "velocidade_3 = [32,111,138,28,59,77,97]\n",
        "\n",
        "x = numpy.std(velocidade_3)\n",
        "\n",
        "print(x)"
      ]
    },
    {
      "cell_type": "markdown",
      "metadata": {
        "id": "Ch5ri7bftklC"
      },
      "source": [
        "#SÍMBOLOS\n",
        "\n",
        "O Desvio Padrão é frequentemente representado pelo símbolo Sigma: σ\n",
        "\n",
        "A variância é frequentemente representada pelo símbolo Sigma ao quadrado: σ²\n"
      ]
    },
    {
      "cell_type": "markdown",
      "metadata": {
        "id": "WDWo57jZvYRJ"
      },
      "source": [
        "#EXERCÍCIOS\n",
        "\n",
        "1) O número de acidentes de trabalhos mensais ocorridos na Prefeitura de Maringá de janeiro de 2022 a março de 2023 foi respectivamente: 62, 63, 64, 70, 68, 66, 63, 65, 64, 69, 66, 67, 63, 68 e 72. Baseando-se nos dados fornecidos, pode-se afirmar que a média, a mediana, desvio padrão e variancia foi de:"
      ]
    },
    {
      "cell_type": "code",
      "execution_count": null,
      "metadata": {
        "id": "9avOP-AItj8_"
      },
      "outputs": [],
      "source": [
        "#EXERCÍCIO 1\n",
        "\n",
        "\n",
        "\n"
      ]
    },
    {
      "cell_type": "markdown",
      "metadata": {
        "id": "WDU8hP4YxibV"
      },
      "source": [
        "2) Em uma clínica pediátrica foram registradas as alturas (em centímetros) de dez crianças, obtendo-se os seguintes dados: 102, 98, 103, 101, 102, 100, 103, 102, 101, 102. Encontre à média, moda, mediana, desvio padrão e variância dessas alturas.  "
      ]
    },
    {
      "cell_type": "code",
      "execution_count": null,
      "metadata": {
        "id": "VIIUivN8xgXv"
      },
      "outputs": [],
      "source": [
        "#EXERCÍCIO 2\n",
        "\n",
        "\n",
        "\n"
      ]
    },
    {
      "cell_type": "markdown",
      "metadata": {
        "id": "AukhfFOrxuck"
      },
      "source": [
        "3) No processo de emagrecimento, um homem se pesou semanalmente por 10 semanas e obteve os valores da tabela a seguir.\n",
        "\n",
        "![image.png](data:image/png;base64,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)\n",
        "\n",
        "Qual são os valores da média, mediana, desvio padrão e variancia do peso durante essas 10 semanas?\n",
        "\n",
        "\n"
      ]
    },
    {
      "cell_type": "code",
      "execution_count": null,
      "metadata": {
        "id": "iWU62wJBxtH-"
      },
      "outputs": [],
      "source": [
        "#EXERCÍCIO 3\n",
        "\n",
        "\n",
        "\n",
        "\n"
      ]
    },
    {
      "cell_type": "markdown",
      "metadata": {
        "id": "00EnXCAQx6tA"
      },
      "source": [
        "4) Com base no conjunto de dados D = {0, 0, 1, 1, 2, 2, 2, 4, 6}, julgue o item seguinte.\n",
        "\n",
        "\n",
        "\n",
        "A média, a moda e a mediana do conjunto de dados são iguais a 2.\n",
        "\n",
        "( ) CERTO\n",
        "\n",
        "( ) ERRADO"
      ]
    },
    {
      "cell_type": "code",
      "execution_count": null,
      "metadata": {
        "id": "GN4C9qZ9yEp0"
      },
      "outputs": [],
      "source": [
        "#EXERCÍCIO 4\n",
        "\n",
        "\n",
        "\n",
        "\n"
      ]
    },
    {
      "cell_type": "markdown",
      "metadata": {
        "id": "mKSZ_-touArC"
      },
      "source": [
        "#DISTRIBUIÇÃO DOS DADOS\n",
        "\n",
        "Até o momento, trabalhamos com quantidades muito pequenas de dados em nossos exemplos, apenas para entender os diferentes conceitos.\n",
        "\n",
        "No mundo real, os conjuntos de dados são muito maiores, mas pode ser difícil recolher dados do mundo real, pelo menos numa fase inicial de um projeto."
      ]
    },
    {
      "cell_type": "markdown",
      "metadata": {
        "id": "-ebTNenquSdC"
      },
      "source": [
        "Como podemos obter conjuntos de Big Data?\n",
        "\n",
        "Para criar conjuntos de big data para teste, usamos o módulo Python NumPy, que vem com vários métodos para criar conjuntos de dados aleatórios, de qualquer tamanho.\n"
      ]
    },
    {
      "cell_type": "code",
      "execution_count": null,
      "metadata": {
        "colab": {
          "base_uri": "https://localhost:8080/"
        },
        "id": "Zp9ENwR-uMWI",
        "outputId": "c0e44b7f-1c2d-4c48-abd9-67f32275a024"
      },
      "outputs": [
        {
          "name": "stdout",
          "output_type": "stream",
          "text": [
            "[1.89701415 3.5492341  0.32536096 1.30523651 0.84526187 1.58459865\n",
            " 2.8611533  4.45244383 0.43557983 1.99182885 1.58725538 4.79674563\n",
            " 4.82715469 4.47088487 0.78524348 1.2990637  1.07980761 3.67218002\n",
            " 4.0185809  2.84105094 3.13079464 1.75668249 3.81312113 3.30459665\n",
            " 2.18678206 1.95465098 2.54354199 3.14385338 0.00679694 0.28773001\n",
            " 4.27490154 3.69359515 4.14186464 1.21862244 3.71464571 1.30902255\n",
            " 3.52933596 0.18142201 2.25295073 3.52600067 2.25633183 3.4469889\n",
            " 1.53203171 3.81213041 3.5681539  4.2655035  0.76085338 1.68035422\n",
            " 0.46227901 4.61803802 3.58518693 3.44791682 2.69953459 3.99194027\n",
            " 1.1087049  2.6764055  1.41004775 4.03635726 4.19241676 2.337428\n",
            " 3.69398654 4.17496456 1.30220949 1.03173719 0.46667585 0.0421263\n",
            " 4.51828796 4.80788421 1.31225413 3.11086104 2.39062307 3.67427745\n",
            " 4.24637464 0.23671047 2.21866641 2.78869072 0.33799976 2.17628819\n",
            " 2.82387634 2.43357366 0.41224059 2.15361415 3.21439066 3.27918383\n",
            " 0.61842681 0.76451649 1.31846066 1.98815037 2.00957152 0.91580012\n",
            " 0.18625313 1.87175585 2.84404505 2.4344351  1.86261336 3.64648859\n",
            " 2.86105052 3.41178171 4.39000545 1.17174311 1.131311   1.18591214\n",
            " 2.85238728 2.9788151  4.07152337 0.65904296 2.94330588 0.71460515\n",
            " 0.96300288 1.364136   2.00699271 2.40851622 2.69736035 3.12092036\n",
            " 4.8961056  4.40112073 0.1985944  2.03312212 4.99135845 3.11440032\n",
            " 2.08919027 2.3957412  3.78650484 1.89830321 2.79784467 1.11862041\n",
            " 0.46354503 2.19895919 1.52837614 1.48354655 2.15922716 0.49528602\n",
            " 4.02240741 2.31182634 4.12882354 3.85383303 0.79262347 4.53090596\n",
            " 2.38025991 0.92419491 1.49092141 4.16518862 3.98907409 0.2283146\n",
            " 0.56209609 3.89858067 3.49371203 3.25581288 1.62156675 4.09368444\n",
            " 4.72103299 2.88973089 0.79493168 0.08165678 4.2380581  3.9702742\n",
            " 4.83873254 4.35753356 0.09341653 0.66089481 0.30594622 2.73178956\n",
            " 2.33768262 2.03184866 2.03906567 4.11929813 4.14940483 4.61435088\n",
            " 4.54395276 1.12498318 2.14615312 2.94392515 4.69609436 2.44033729\n",
            " 1.8227912  1.78564642 0.0921895  3.34916042 3.01269176 4.91934622\n",
            " 4.83991108 2.62938045 4.53636337 1.95278673 0.27833821 1.99481496\n",
            " 4.40964738 2.84061735 0.70627448 1.04595113 0.86943686 4.18137662\n",
            " 3.44531312 0.79387437 1.33254023 1.56530859 0.23284064 1.03904381\n",
            " 0.02485907 2.48108665 2.40496903 0.98582068 4.52709803 3.37095693\n",
            " 2.44075294 3.95879317 1.65036134 1.96855491 0.17742856 2.79592387\n",
            " 3.544853   0.86030982 1.4217424  3.11264133 2.70233188 3.71208554\n",
            " 1.61082081 2.90886833 0.58013227 2.9253112  2.69648362 3.75672119\n",
            " 1.72960595 1.80046776 0.01315948 3.29609299 3.124997   2.12365608\n",
            " 1.7289841  4.49288679 2.86334598 3.69566881 2.38746281 1.737661\n",
            " 1.88726474 4.1749806  1.52679671 2.56432373 3.17646602 3.7846941\n",
            " 2.84075752 1.66803977 0.40184448 4.67798901 1.65478207 0.24659415\n",
            " 0.89119734 0.58240641 3.805879   4.25350801]\n"
          ]
        }
      ],
      "source": [
        "import numpy\n",
        "\n",
        "x = numpy.random.uniform(0.0, 5.0, 250)\n",
        "\n",
        "print(x)"
      ]
    },
    {
      "cell_type": "markdown",
      "metadata": {
        "id": "FH11JCOHuf5b"
      },
      "source": [
        "#HISTOGRAMA\n",
        "\n",
        "Para visualizar o conjunto de dados podemos desenhar um histograma com os dados que coletamos.\n",
        "\n",
        "Usaremos o módulo Python Matplotlib para desenhar um histograma."
      ]
    },
    {
      "cell_type": "code",
      "execution_count": null,
      "metadata": {
        "colab": {
          "base_uri": "https://localhost:8080/",
          "height": 430
        },
        "id": "N8AQqzTNue-9",
        "outputId": "17fec8b2-2408-4922-bdb7-b257a4f38b70"
      },
      "outputs": [
        {
          "data": {
            "image/png": "[encoded data removed]",
            "text/plain": [
              "<Figure size 640x480 with 1 Axes>"
            ]
          },
          "metadata": {},
          "output_type": "display_data"
        }
      ],
      "source": [
        "import numpy\n",
        "import matplotlib.pyplot as plt\n",
        "\n",
        "x = numpy.random.uniform(0.0, 5.0, 250)\n",
        "\n",
        "plt.hist(x, 5)\n",
        "plt.show()"
      ]
    },
    {
      "cell_type": "markdown",
      "metadata": {
        "id": "PMUSRQlCu19L"
      },
      "source": [
        "Histograma explicado\n",
        "\n",
        "Usamos o array do exemplo acima para desenhar um histograma com 5 barras.\n",
        "\n",
        "A primeira barra representa quantos valores na matriz estão entre 0 e 1.\n",
        "\n",
        "A segunda barra representa quantos valores estão entre 1 e 2,etc...\n",
        "\n",
        "O que nos dá este resultado:\n",
        "\n",
        "     valores estão entre 0 e 1\n",
        "     valores estão entre 1 e 2\n",
        "     valores estão entre 2 e 3\n",
        "     valores estão entre 3 e 4\n",
        "     valores estão entre 4 e 5"
      ]
    },
    {
      "cell_type": "markdown",
      "metadata": {
        "id": "0vssjcNR63JU"
      },
      "source": [
        "#EXERCÍCIO\n",
        "\n",
        "Crie uma gráfico de barras com as informações abaixo:"
      ]
    },
    {
      "cell_type": "code",
      "execution_count": null,
      "metadata": {
        "id": "aYXiTqQ47Vdu"
      },
      "outputs": [],
      "source": [
        "import pandas as pd"
      ]
    },
    {
      "cell_type": "code",
      "execution_count": null,
      "metadata": {
        "id": "JvCYhbRJ7BsZ"
      },
      "outputs": [],
      "source": [
        "#Criando e Organizando\n",
        "data = {\n",
        "    'salary': [623.30, 515.20, 611.00, 729.00, 843.25, 578.00, 632.80, 722.50],\n",
        "    'name': ['Rick', 'Dan', 'Tusar', 'Ryan', 'Gary', 'Rasmi', 'Pranab', 'Guru']\n",
        "}\n",
        "#Transformando em um dataframe\n",
        "df = pd.DataFrame(data)\n",
        "df\n",
        "\n",
        "#Separando as colunas\n",
        "salary = df['salary']\n",
        "name = df['name']"
      ]
    },
    {
      "cell_type": "code",
      "execution_count": null,
      "metadata": {
        "id": "JcMx8o5a8QX3"
      },
      "outputs": [],
      "source": [
        "# EXERCÍCIO (USE MATPLOT)\n",
        "\n",
        "\n",
        "\n",
        "\n"
      ]
    },
    {
      "cell_type": "markdown",
      "metadata": {
        "id": "gJOv58120eYz"
      },
      "source": [
        "#DISTRIBUIÇÕES\n",
        "\n",
        "Um array contendo 250 valores não é considerado muito grande, mas agora você sabe como criar um conjunto aleatório de valores e, alterando os parâmetros, pode criar o conjunto de dados do tamanho que desejar. Crie um array com 100.000 números aleatórios e exiba-os usando um histograma com 100 barras:"
      ]
    },
    {
      "cell_type": "code",
      "execution_count": null,
      "metadata": {
        "colab": {
          "base_uri": "https://localhost:8080/",
          "height": 430
        },
        "id": "7s_xk0zY0Y7L",
        "outputId": "194bde1d-6221-4a4d-b8c0-a047c544787c"
      },
      "outputs": [
        {
          "data": {
            "image/png": "[encoded data removed]",
            "text/plain": [
              "<Figure size 640x480 with 1 Axes>"
            ]
          },
          "metadata": {},
          "output_type": "display_data"
        }
      ],
      "source": [
        "import numpy\n",
        "import matplotlib.pyplot as plt\n",
        "\n",
        "x = numpy.random.uniform(0.0, 5.0, 100000)\n",
        "\n",
        "plt.hist(x, 100)\n",
        "plt.show()"
      ]
    },
    {
      "cell_type": "markdown",
      "metadata": {
        "id": "6dWqYeX51uxF"
      },
      "source": [
        "#DISTRIBUIÇÃO NORMAL\n",
        "\n",
        " Anteriormente aprendemos como criar um array completamente aleatório, de um determinado tamanho e entre dois valores determinados. Aprenderemos como criar um array onde os valores estão concentrados em torno de um determinado valor.\n",
        "\n",
        "Na teoria das probabilidades, esse tipo de distribuição de dados é conhecido como distribuição normal de dados, ou distribuição gaussiana de dados, em homenagem ao matemático Carl Friedrich Gauss que criou a fórmula dessa distribuição de dados."
      ]
    },
    {
      "cell_type": "code",
      "execution_count": null,
      "metadata": {
        "colab": {
          "base_uri": "https://localhost:8080/",
          "height": 430
        },
        "id": "5GfoXYCL2AVA",
        "outputId": "da524b5f-a493-43f5-94e4-e88bc5f27661"
      },
      "outputs": [
        {
          "data": {
            "image/png": "[encoded data removed]",
            "text/plain": [
              "<Figure size 640x480 with 1 Axes>"
            ]
          },
          "metadata": {},
          "output_type": "display_data"
        }
      ],
      "source": [
        "import numpy\n",
        "import matplotlib.pyplot as plt\n",
        "\n",
        "x = numpy.random.normal(5.0, 1.0, 100_000)\n",
        "\n",
        "plt.hist(x, 100)\n",
        "plt.show()"
      ]
    },
    {
      "cell_type": "markdown",
      "metadata": {
        "id": "16PGMM30894M"
      },
      "source": [
        "Usamos o array do método numpy.random.normal(), com 100.000 valores, para desenhar um histograma com 100 barras.\n",
        "\n",
        "Especificamos que o valor médio é 5,0 e o desvio padrão é 1,0.\n",
        "\n",
        "O que significa que os valores devem estar concentrados em torno de 5,0 e raramente mais distantes que 1,0 da média.\n",
        "\n",
        "E como você pode ver no histograma, a maioria dos valores está entre 4,0 e 6,0, com um máximo em aproximadamente 5,0."
      ]
    },
    {
      "cell_type": "markdown",
      "metadata": {
        "id": "2v_WNbIo2o6g"
      },
      "source": [
        "#EXERCICIOS\n",
        "\n",
        "1) Obtenha uma distribuição normal com valor médio igual a 7 e desvio padrão de 1.5 com valores. Use 150 barras"
      ]
    },
    {
      "cell_type": "code",
      "execution_count": null,
      "metadata": {
        "id": "dWvNDfKA2nRw"
      },
      "outputs": [],
      "source": [
        "import numpy\n",
        "import matplotlib.pyplot as plt\n",
        "\n",
        "#x = numpy.random.normal(__, __ , _____)\n",
        "\n",
        "#plt.hist(x, __ )\n",
        "plt.show()"
      ]
    },
    {
      "cell_type": "markdown",
      "metadata": {
        "id": "Tg9HZX64G5c_"
      },
      "source": [
        "#REVISÃO ALGEBRA"
      ]
    },
    {
      "cell_type": "markdown",
      "metadata": {
        "id": "_dQ_ZB-_Hih0"
      },
      "source": [
        "##Escalares\n",
        "\n",
        "Escalares são valores únicos que representam uma magnitude sem direção.Eles podem ser números reais ou complexos.\n",
        "Exemplos comuns de escalares incluem números inteiros, números decimais e números complexos.\n",
        "\n",
        "\n",
        "Exemplo: 5, 1/2, 3j"
      ]
    },
    {
      "cell_type": "code",
      "execution_count": null,
      "metadata": {
        "colab": {
          "base_uri": "https://localhost:8080/"
        },
        "id": "Dhwd8YTgnbc3",
        "outputId": "fe63f46b-4072-47df-e51a-f4aeba4b38ea"
      },
      "outputs": [
        {
          "name": "stdout",
          "output_type": "stream",
          "text": [
            "Escalares: 5 4\n",
            "Soma: 9\n",
            "Subtração: 1\n",
            "Multiplicação: 20\n",
            "Divisão: 1.25\n"
          ]
        }
      ],
      "source": [
        "# Escalar\n",
        "escalar_0 = 5\n",
        "escalar_1 = 4\n",
        "print(\"Escalares:\", escalar_0, escalar_1)\n",
        "\n",
        "# Soma\n",
        "soma = escalar_0 + escalar_1\n",
        "print(\"Soma:\", soma)\n",
        "\n",
        "#Subtração\n",
        "subtracao = escalar_0 - escalar_1\n",
        "print(\"Subtração:\", subtracao)\n",
        "\n",
        "# Multiplicação\n",
        "multiplicacao = escalar_0 * escalar_1\n",
        "print(\"Multiplicação:\", multiplicacao)\n",
        "\n",
        "# Divisão\n",
        "divisao = escalar_0 / escalar_1\n",
        "print(\"Divisão:\", divisao)"
      ]
    },
    {
      "cell_type": "code",
      "execution_count": null,
      "metadata": {
        "id": "Z4VPJZVZJepD"
      },
      "outputs": [],
      "source": [
        "#EXERCÍCIO\n",
        "\n",
        "#Encontre as operações básicas dos escalares abaixo\n",
        "escalar_2 = 4272\n",
        "escalar_3 = 1745"
      ]
    },
    {
      "cell_type": "markdown",
      "metadata": {
        "id": "dSImmGSyH6bg"
      },
      "source": [
        "#Vetores\n",
        "\n",
        "Vetores são objetos matemáticos que representam magnitudes e direções em um espaço.\n",
        "Eles consistem em um conjunto ordenado de escalares, cada um representando uma dimensão. Vetores podem ser representados como colunas ou linhas de números.\n",
        "\n",
        "Propriedades\n",
        "\n",
        "1. Comutatividade da Adição:\n",
        " $\\mathbf{u}$ + $\\mathbf{v}$ = $\\mathbf{v}$ + $\\mathbf{u}$ \\\n",
        "\n",
        "2. Associatividade da Adição:\n",
        " $(\\mathbf{u}$ + $\\mathbf{v})$ + $\\mathbf{w}$ = $\\mathbf{u}$ + $(\\mathbf{v}$ + $\\mathbf{w})$\n",
        "\n",
        "3. Identidade Aditiva:\n",
        " $\\mathbf{v}$ + $\\mathbf{0}$ = $\\mathbf{v}$\n",
        "\n",
        "4. Inverso Aditivo:\n",
        " $\\mathbf{v}$ + $(-\\mathbf{v})$ = $\\mathbf{0}$\n",
        "\n",
        "5. Distributividade da Multiplicação por Escalar em relação à Adição de Vetores:\n",
        "$c$ $(\\mathbf{u}$ + $\\mathbf{v})$ = $c$ $\\mathbf{u}$ + $c$ $\\mathbf{v}$\n",
        "\n",
        "6. Compatibilidade da Multiplicação por Escalar com a Multiplicação Escalar:\n",
        " $(cd)$ $\\mathbf{v}$ = $c$ $(d \\mathbf{v})$\n",
        "\n",
        "\n",
        "\n"
      ]
    },
    {
      "cell_type": "code",
      "execution_count": null,
      "metadata": {
        "colab": {
          "base_uri": "https://localhost:8080/"
        },
        "id": "kS0jE1c9H5l7",
        "outputId": "764d88dd-eea2-4147-9921-044517fbef19"
      },
      "outputs": [
        {
          "name": "stdout",
          "output_type": "stream",
          "text": [
            "Vetores: [1, 2, 3] [7, 5, 3]\n",
            "Soma: (8, 7, 6)\n",
            "Subtração: (-6, -3, 0)\n",
            "Norma do vetor 0: 3.7416573867739413\n",
            "Norma do vetor 1: 9.1104335791443\n",
            "Angulo entre os vetores radianos: 0.7032738138971762\n",
            "Angulo entre os vetores graus: 40.2946213783771\n"
          ]
        }
      ],
      "source": [
        "vetor_0 = [1, 2, 3]\n",
        "vetor_1 = [7, 5, 3]\n",
        "print(\"Vetores:\", vetor_0, vetor_1)\n",
        "\n",
        "#Soma de vetores\n",
        "soma_vetores = vetor_0[0]+vetor_1[0], vetor_0[1]+vetor_1[1], vetor_0[2]+vetor_1[2]\n",
        "print(\"Soma:\", soma_vetores)\n",
        "\n",
        "#Subtração de vetores\n",
        "subtracao_vetores = vetor_0[0]-vetor_1[0], vetor_0[1]-vetor_1[1], vetor_0[2]-vetor_1[2]\n",
        "print(\"Subtração:\", subtracao_vetores)\n",
        "\n",
        "#Norma de Vetores\n",
        "norma_vetor_0 = (vetor_0[0]**2 + vetor_0[1]**2 + vetor_0[2]**2)**0.5\n",
        "print(\"Norma do vetor 0:\", norma_vetor_0)\n",
        "\n",
        "norma_vetor_1 = (vetor_1[0]**2 + vetor_1[1]**2 + vetor_1[2]**2)**0.5\n",
        "print(\"Norma do vetor 1:\", norma_vetor_1)\n",
        "\n",
        "#Angulo Entre Vetores\n",
        "angulo_entre_vetores = np.arccos((vetor_0[0]*vetor_1[0] + vetor_0[1]*vetor_1[1] + vetor_0[2]*vetor_1[2])/(norma_vetor_0*norma_vetor_1))\n",
        "print(\"Angulo entre os vetores radianos:\", angulo_entre_vetores)\n",
        "print(\"Angulo entre os vetores graus:\", angulo_entre_vetores*180/np.pi)"
      ]
    },
    {
      "cell_type": "code",
      "execution_count": null,
      "metadata": {
        "id": "rmpW0Y1zJbTH"
      },
      "outputs": [],
      "source": [
        "#Encontre os resultados para as operações entre vetores descritas anteriormente\n",
        "vetor_2 = [7, 5, 3, 5, 16]\n",
        "vetor_3 = [4, 5, 6, 11, 1]"
      ]
    },
    {
      "cell_type": "markdown",
      "metadata": {
        "id": "XRVnJW0fg1Pz"
      },
      "source": [
        "#PRODUTO ESCALAR\n",
        "\n",
        "O produto escalar, também conhecido como produto interno.\n",
        "É calculado multiplicando-se os elementos correspondentes dos vetores e somando os resultados.\n",
        "O produto escalar é comumente utilizado para determinar a projeção de um vetor em outro, calcular ângulos entre vetores e determinar a magnitude de um vetor na direção de outro.\n",
        ". Em geometria, o produto escalar é fundamental para calcular áreas, volumes e resolver problemas de trigonometria.\n",
        "\n",
        "Exemplo:\n",
        "\n",
        "Considere dois vetores $\\mathbf{v} = [3,4]$ e $\\mathbf{w} = [5,2]$. Para calcular o produto escalar entre esses vetores, utilizamos a fórmula:\n",
        "\n",
        "$\\mathbf{v}$ $\\cdot$ $\\mathbf{w}$ = $v_1$ $\\times$ $w_1$ + $v_2$ $\\times$ $w_2$ \\\n",
        "\n",
        "Substituindo os valores:\n",
        "\n",
        " $\\mathbf{v}$ $\\cdot$ $\\mathbf{w}$ = (3 $\\times$ 5) + (4 $\\times$ 2) = 15 + 8 = 23\n",
        "\n",
        "Portanto, o produto escalar entre v e w é 23.\n",
        "\n"
      ]
    },
    {
      "cell_type": "code",
      "execution_count": null,
      "metadata": {
        "colab": {
          "base_uri": "https://localhost:8080/"
        },
        "id": "V_9uUR6Qg0pd",
        "outputId": "b5c3c43a-7fa0-483f-c38a-e8126d6b63e7"
      },
      "outputs": [
        {
          "name": "stdout",
          "output_type": "stream",
          "text": [
            "Produto Escalar: 32\n"
          ]
        }
      ],
      "source": [
        "# Definindo dois vetores\n",
        "vetor1 = np.array([1, 2, 3])\n",
        "vetor2 = np.array([4, 5, 6])\n",
        "\n",
        "# Calculando o produto escalar\n",
        "produto_escalar = np.dot(vetor1, vetor2)\n",
        "\n",
        "print(\"Produto Escalar:\", produto_escalar)"
      ]
    },
    {
      "cell_type": "code",
      "execution_count": null,
      "metadata": {
        "id": "RXH1gi83hw9X"
      },
      "outputs": [],
      "source": [
        "#EXERCÍCIO: Encontre o produto escalar dos vetores abaixo\n",
        "vetor3 = [6, 9, 2, 3, 4]\n",
        "vetor4 = [1, 2, 3, 4, 5]\n"
      ]
    },
    {
      "cell_type": "markdown",
      "metadata": {
        "id": "MiRMST5NiGpk"
      },
      "source": [
        "#Produto Vetorial\n",
        "\n",
        "O produto vetorial, é uma operação matemática entre dois vetores que resulta em um terceiro vetor perpendicular ao plano definido pelos vetores originais. É calculado através da aplicação da regra da mão direita ou por meio de determinantes. O produto vetorial é útil para determinar áreas de paralelogramos e volumes de paralelepípedos em geometria, bem como para calcular momentos de força em física e para representar o torque em sistemas de coordenadas tridimensionais.\n",
        "\n",
        "\n",
        "Considere dois vetores $\\mathbf{v} = [2, 3, 1]$ e $\\mathbf{w} = [4, 1, 5]$. Para calcular o produto vetorial entre esses vetores, utilizamos a seguinte fórmula:\n",
        "\n",
        "\\\n",
        "$\\mathbf{v}$ $\\times$ $\\mathbf{w}$ = \\begin{bmatrix} i & j & k \\\\ v_x & v_y & v_z \\\\ w_x & w_y & w_z \\end{bmatrix}\n",
        "\n",
        "\n",
        "Substituindo os valores:\n",
        "\n",
        "\\\n",
        "$\\mathbf{v}$ $\\times$ $\\mathbf{w}$ = \\begin{bmatrix} i & j & k \\\\ 2 & 3 & 1 \\\\ 4 & 1 & 5 \\end{bmatrix}\n",
        "\n",
        "\n",
        "Calculando o determinante para cada componente do vetor resultante, obtemos:\n",
        "\n",
        "\\\n",
        "$\\mathbf{v}$ $\\times$ $\\mathbf{w}$ = [(3 $\\times$ 5) - (1 $\\times$ 1), -(2 $\\times$ 5) + (1 $\\times$ 4), (2 $\\times$ 1) - (3 $\\times$ 4)]\n",
        "\n",
        "\n",
        "\\\n",
        "$\\mathbf{v}$ $\\times$ $\\mathbf{w}$ = [14, -6, -10]\n",
        "\n",
        "\n",
        "Portanto, o produto vetorial entre $\\mathbf{v}$ e $\\mathbf{w}$ é $\\mathbf{v} \\times \\mathbf{w} = [14, -6, -10]$.\n"
      ]
    },
    {
      "cell_type": "markdown",
      "metadata": {
        "id": "ZE04RYNPoALo"
      },
      "source": [
        "###AXIOMAS (PROPRIEDADES VETORAIS)\n",
        "\n",
        "1. Associatividade da Adição:\n",
        "$(\\mathbf{u}$ + $\\mathbf{v})$ + $\\mathbf{w}$ = $\\mathbf{u}$ + $(\\mathbf{v}$ + $\\mathbf{w})$\n",
        "\n",
        "2. Comutatividade da Adição:\n",
        "$\\mathbf{u}$ + $\\mathbf{v}$ = $\\mathbf{v}$ + $\\mathbf{u}$\n",
        "\n",
        "3. Identidade Aditiva:\n",
        " $\\mathbf{v}$ + $\\mathbf{0}$ = $\\mathbf{v}$\n",
        "\n",
        "4. Inverso Aditivo\n",
        "$\\mathbf{v}$ + $(-\\mathbf{v})$ = $\\mathbf{0}$\n",
        "\n",
        "5. Associatividade da Multiplicação por Escalar:\n",
        "$c(\\mathbf{u}$ + $\\mathbf{v})$ = $c\\mathbf{u}$ + $c\\mathbf{v}$\n",
        "\n",
        "6. Distributividade da Multiplicação por Escalar em relação à Adição de Vetores:$(c + d)\\mathbf{v}$ = $c\\mathbf{v}$ + $d\\mathbf{v}$\n",
        "\n",
        "7. Distributividade da Multiplicação por Escalar em relação à Adição de Escalares:\n",
        "$c(\\mathbf{u}$ + $\\mathbf{v})$ = $c\\mathbf{u}$ + $c\\mathbf{v}$\n",
        "\n",
        "8. Multiplicação por Escalar Associada:\n",
        " (c d)$\\mathbf{v}$ = $c(d\\mathbf{v}$) \\\n",
        "\n"
      ]
    },
    {
      "cell_type": "markdown",
      "metadata": {
        "id": "F8qPiw2JQWDe"
      },
      "source": [
        "#MATRIZES\n",
        "\n",
        "\n",
        "Matrizes são conjuntos de números organizados em linhas e colunas.\n",
        "Cada elemento de uma matriz é identificado por sua posição na linha e na coluna.\n",
        "São frequentemente usadas para representar transformações lineares, sistemas de equações e dados multidimensionais."
      ]
    },
    {
      "cell_type": "code",
      "execution_count": null,
      "metadata": {
        "colab": {
          "base_uri": "https://localhost:8080/"
        },
        "id": "LIlRNPyOnknf",
        "outputId": "cb65b7a6-b7e5-4c55-9c51-46c584f2a5db"
      },
      "outputs": [
        {
          "name": "stdout",
          "output_type": "stream",
          "text": [
            "Matriz1\n"
          ]
        }
      ],
      "source": [
        "# Exemplo de matriz em Python usando listas de listas\n",
        "matriz1 = np.array([[1, 2], [3, 4]])\n",
        "print(\"Matriz1\")"
      ]
    },
    {
      "cell_type": "code",
      "execution_count": null,
      "metadata": {
        "id": "Rtv8fdvGp-cI"
      },
      "outputs": [],
      "source": [
        "#Adição de matrizes\n",
        "A = np.array([[1, 2], [3, 4]])\n",
        "B = np.array([[5, 6], [7, 8]])\n",
        "C = A + B\n",
        "print(\"Resultado da adição de matrizes:\")\n",
        "print(C)\n"
      ]
    },
    {
      "cell_type": "code",
      "execution_count": null,
      "metadata": {
        "colab": {
          "base_uri": "https://localhost:8080/"
        },
        "id": "cOPBQhF9n69F",
        "outputId": "f1287e68-57aa-4269-8c1c-6a0a6ab5b9ca"
      },
      "outputs": [
        {
          "name": "stdout",
          "output_type": "stream",
          "text": [
            "Resultado da subtração de matrizes:\n",
            "[[-4 -4]\n",
            " [-4 -4]]\n"
          ]
        }
      ],
      "source": [
        "#Subtração de Matrizes\n",
        "A = np.array([[1, 2], [3, 4]])\n",
        "B = np.array([[5, 6], [7, 8]])\n",
        "D = A - B\n",
        "print(\"Resultado da subtração de matrizes:\")\n",
        "print(D)\n"
      ]
    },
    {
      "cell_type": "code",
      "execution_count": null,
      "metadata": {
        "colab": {
          "base_uri": "https://localhost:8080/"
        },
        "id": "Ff45Oseco4lZ",
        "outputId": "20b5cd7e-dec3-42a1-d179-8df2e09468b3"
      },
      "outputs": [
        {
          "name": "stdout",
          "output_type": "stream",
          "text": [
            "Resultado da multiplicação por escalar:\n",
            "[[2 4]\n",
            " [6 8]]\n"
          ]
        }
      ],
      "source": [
        "#Multiplicação por Escalar\n",
        "A = np.array([[1, 2], [3, 4]])\n",
        "c = 2\n",
        "E = c * A\n",
        "print(\"Resultado da multiplicação por escalar:\")\n",
        "print(E)"
      ]
    },
    {
      "cell_type": "code",
      "execution_count": null,
      "metadata": {
        "colab": {
          "base_uri": "https://localhost:8080/"
        },
        "id": "rLYMcidaghpe",
        "outputId": "746dccfa-f188-4d22-dfce-934bffebf8fe"
      },
      "outputs": [
        {
          "name": "stdout",
          "output_type": "stream",
          "text": [
            "Resultado da multiplicação de matrizes:\n",
            "[[19 22]\n",
            " [43 50]]\n"
          ]
        }
      ],
      "source": [
        "#Multiplicação de Matrizes\n",
        "A = np.array([[1, 2], [3, 4]])\n",
        "B = np.array([[5, 6], [7, 8]])\n",
        "F = np.dot(A, B)\n",
        "print(\"Resultado da multiplicação de matrizes:\")\n",
        "print(F)"
      ]
    },
    {
      "cell_type": "code",
      "execution_count": null,
      "metadata": {
        "colab": {
          "base_uri": "https://localhost:8080/"
        },
        "id": "xtUAR4zvl_0M",
        "outputId": "3b851f1e-e466-4405-a931-a3520b8807c9"
      },
      "outputs": [
        {
          "name": "stdout",
          "output_type": "stream",
          "text": [
            "Matriz original:\n",
            "[[1 2 3]\n",
            " [4 5 6]]\n",
            "\n",
            "Matriz transposta:\n",
            "[[1 4]\n",
            " [2 5]\n",
            " [3 6]]\n"
          ]
        }
      ],
      "source": [
        "# Definindo uma matriz\n",
        "matriz = np.array([[1, 2, 3], [4, 5, 6]])\n",
        "\n",
        "# Calculando a transposta da matriz\n",
        "matriz_transposta = np.transpose(matriz)\n",
        "\n",
        "print(\"Matriz original:\")\n",
        "print(matriz)\n",
        "\n",
        "print(\"\\nMatriz transposta:\")\n",
        "print(matriz_transposta)"
      ]
    },
    {
      "cell_type": "markdown",
      "metadata": {
        "id": "pTBhApRAnLkX"
      },
      "source": [
        "##MATRIZ INVERSA\n",
        "\n",
        "A matriz inversa é uma operação fundamental na álgebra linear. Para uma matriz quadrada $A$, a matriz inversa $A^{-1}$ é tal que, quando multiplicada pela matriz original, produz a matriz identidade II. Em outras palavras:\n",
        "\n",
        "$A \\cdot A^{-1} = A^{-1} \\cdot A = I$"
      ]
    },
    {
      "cell_type": "code",
      "execution_count": null,
      "metadata": {
        "colab": {
          "base_uri": "https://localhost:8080/"
        },
        "id": "89RUYdKcmMFh",
        "outputId": "d6bf8ef1-151f-4782-958b-4e86f9184a15"
      },
      "outputs": [
        {
          "name": "stdout",
          "output_type": "stream",
          "text": [
            "Matriz original:\n",
            "[[1 2]\n",
            " [3 4]]\n",
            "\n",
            "Matriz inversa:\n",
            "[[-2.   1. ]\n",
            " [ 1.5 -0.5]]\n"
          ]
        }
      ],
      "source": [
        "# Definindo uma matriz\n",
        "matriz = np.array([[1, 2], [3, 4]])\n",
        "\n",
        "# Calculando a matriz inversa\n",
        "matriz_inversa = np.linalg.inv(matriz)\n",
        "\n",
        "print(\"Matriz original:\")\n",
        "print(matriz)\n",
        "\n",
        "print(\"\\nMatriz inversa:\")\n",
        "print(matriz_inversa)"
      ]
    },
    {
      "cell_type": "markdown",
      "metadata": {
        "id": "j9re04e1rNZ3"
      },
      "source": [
        "#EXERCÍCIOS DE FIXAÇÃO\n",
        "\n",
        "1) Uma distribuidora comprou x unidades de barris de petróleo, por 415 reais o   barril, e  y unidades de m³ de gás, por  2 reais o m³, pagando um valor total de R$ 23.695.000. A quantidade de unidades dos dois produtos comprados totalizou 490.000 unidades.\n",
        "\n",
        "\n",
        "Acerca dessa situação hipotética, encontre\n",
        " inversa da matriz dos coeficientes \\\n",
        "$\\mathbf{C}$ = $\\begin{bmatrix} 415 & 2 \\\\ 1 & 1  \\\\  \\end{bmatrix}$\n",
        "\n"
      ]
    },
    {
      "cell_type": "code",
      "execution_count": null,
      "metadata": {
        "id": "1WxzIPmbnAQq"
      },
      "outputs": [],
      "source": [
        "#Exercicio 1\n",
        "\n",
        "\n"
      ]
    },
    {
      "cell_type": "markdown",
      "metadata": {
        "id": "JISQIbxJtCp8"
      },
      "source": [
        "## Exercício 2\n",
        "\n",
        "Considere as matrizes $\\mathbf{A}$ = $\\begin{bmatrix} 1 & 3 \\\\ 2 & 4  \\\\  \\end{bmatrix}$ e $\\mathbf{A}$ = $\\begin{bmatrix} 2 & 5 \\\\ 4 & 2  \\\\  \\end{bmatrix}$.\n",
        "Encontre a diferença entre AB e BA"
      ]
    },
    {
      "cell_type": "code",
      "execution_count": null,
      "metadata": {
        "id": "zXYojWrttuvB"
      },
      "outputs": [],
      "source": [
        "#Exercício 2\n",
        "\n",
        "\n"
      ]
    },
    {
      "cell_type": "markdown",
      "metadata": {
        "id": "mN3P_jOJuDDy"
      },
      "source": [
        "##Exercício 3\n",
        "\n",
        "Considere a matriz $\\mathbf{A}$ = $\\begin{bmatrix} 1 & -2 \\\\ 2 & -3  \\\\  \\end{bmatrix}$ e a matriz B= A².\n",
        "\n",
        "Qual é o valor elemento $B_{21}$ ?"
      ]
    },
    {
      "cell_type": "code",
      "execution_count": null,
      "metadata": {
        "id": "12_CO64Tv6Hr"
      },
      "outputs": [],
      "source": [
        "#Exercício 3\n",
        "\n",
        "\n"
      ]
    },
    {
      "cell_type": "markdown",
      "metadata": {
        "id": "Mh3AIo8n0kaT"
      },
      "source": [
        "#DETERMINANTE\n",
        "\n",
        "O determinante é uma medida numérica associada a uma matriz quadrada. Ele fornece informações sobre as propriedades geométricas e algébricas da matriz e é calculado de maneira específica. O determinante de uma matriz nxn é representado pelo símbolo det(A) ou ∣A∣. Se o determinante de uma matriz for zero, a matriz é considerada singular, o que significa que ela não possui inversa. O determinante é usado em uma variedade de aplicações, incluindo a solução de sistemas de equações lineares, cálculo de áreas e volumes, transformações lineares e diagonalização de matrizes"
      ]
    },
    {
      "cell_type": "code",
      "execution_count": null,
      "metadata": {
        "colab": {
          "base_uri": "https://localhost:8080/"
        },
        "id": "Fd5y4iic1BE4",
        "outputId": "81346cee-bffd-4bb9-b7f8-8ed8a1167ff1"
      },
      "outputs": [
        {
          "name": "stdout",
          "output_type": "stream",
          "text": [
            "Determinante da matriz:\n",
            "6.0\n"
          ]
        }
      ],
      "source": [
        "# Definindo uma matriz\n",
        "matriz = np.array([[3, 2], [3, 4]])\n",
        "\n",
        "# Calculando o determinante\n",
        "determinante = np.linalg.det(matriz)\n",
        "\n",
        "print(\"Determinante da matriz:\")\n",
        "print(determinante)"
      ]
    },
    {
      "cell_type": "markdown",
      "metadata": {
        "id": "rGF5mAL61c16"
      },
      "source": [
        "#EXERCÍCIOS\n",
        "\n",
        "1) O determinante da matriz $\\mathbf{A}$ = $\\begin{bmatrix} 1 & -1 & 0 \\\\ 0 & 3 & 2  \\\\ 2 & 0 & 1  \\end{bmatrix}$  é:"
      ]
    },
    {
      "cell_type": "code",
      "execution_count": null,
      "metadata": {
        "id": "UZCZzerU1btO"
      },
      "outputs": [],
      "source": [
        "#Exercicio 1\n",
        "\n"
      ]
    },
    {
      "cell_type": "markdown",
      "metadata": {
        "id": "OybYXviz2Gu5"
      },
      "source": [
        "##Exercício 2\n",
        "2)  Se os determinantes das matrizes   $\\begin{bmatrix} 1 & 2  \\\\ 3 & 4 \\end{bmatrix}$ e $\\begin{bmatrix} 1 & 2 & 3 \\\\ 4 & 5 & 6 \\\\ 7 & 8 & 9 \\end{bmatrix}$ são respectivamente p e q, então, o produto p.q é igual a"
      ]
    },
    {
      "cell_type": "code",
      "execution_count": null,
      "metadata": {
        "id": "QKt0qml63P-Q"
      },
      "outputs": [],
      "source": [
        "#Exercicio 2\n",
        "\n",
        "\n",
        "\n",
        "\n"
      ]
    },
    {
      "cell_type": "markdown",
      "metadata": {
        "id": "r4yryxxAwI51"
      },
      "source": [
        "#PRODUTO INTERNO\n",
        "\n",
        "O produto interno é uma operação entre dois vetores que produz um escalar. Ele mede a \"similaridade\" ou \"proximidade\" entre os vetores e é calculado multiplicando componentes correspondentes dos vetores e somando os resultados. O produto interno também é conhecido como produto escalar. Essa operação é comumente utilizada para calcular ângulos, projeções e distâncias entre vetores em espaços vetoriais. Em fórmulas, o produto interno entre dois vetores u e v é denotado por u e v é denotado $\\langle u$, $v$ $\\rangle$ ou  $u$ $\\cdot$ $v$.\n",
        "\n",
        "###Propriedades\n",
        "\n",
        "Comutatividade:\n",
        "\\\n",
        "$\\langle u$, $v \\rangle$ = $\\langle v$,$ u \\rangle$\n",
        "\n",
        "\n",
        "Distributividade:\n",
        "\\\n",
        "$\\langle u$ + $v, w \\rangle$ = $\\langle u$, $w \\rangle$ + $\\langle v$, $w \\rangle$\n",
        "\n",
        "\n",
        "Associatividade da Multiplicação por Escalar:\n",
        "\\\n",
        "$c \\langle u$, $v \\rangle$ = $\\langle cu$, $v \\rangle$ = $\\langle u$, $cv \\rangle$\n",
        "\n",
        "\n",
        "Linearidade em cada Argumento:\n",
        "\\\n",
        "$\\langle cu$ + $dv$, $w \\rangle$ = c $\\langle u$, $w \\rangle$ + $d \\langle$ v, $w \\rangle$\n",
        "\n",
        "\n",
        "Produto Interno com Vetor Nulo:\n",
        "\\\n",
        "$\\langle 0$, $v \\rangle$ = $\\langle v$, $0 \\rangle$ = $0$\n",
        "\n"
      ]
    },
    {
      "cell_type": "code",
      "execution_count": null,
      "metadata": {
        "colab": {
          "base_uri": "https://localhost:8080/"
        },
        "id": "fjvsEyosv9Cw",
        "outputId": "97758b4f-9610-460a-cdce-32b7c33e35b3"
      },
      "outputs": [
        {
          "name": "stdout",
          "output_type": "stream",
          "text": [
            "Produto interno entre u e v: 32\n"
          ]
        }
      ],
      "source": [
        "# Definindo dois vetores\n",
        "u = np.array([1, 2, 3])\n",
        "v = np.array([4, 5, 6])\n",
        "\n",
        "# Calculando o produto interno\n",
        "produto_interno = np.dot(u, v)\n",
        "\n",
        "print(\"Produto interno entre u e v:\", produto_interno)"
      ]
    }
  ],
  "metadata": {
    "colab": {
      "provenance": []
    },
    "kernelspec": {
      "display_name": "Python 3",
      "name": "python3"
    },
    "language_info": {
      "name": "python"
    }
  },
  "nbformat": 4,
  "nbformat_minor": 0
}
